{
 "cells": [
  {
   "cell_type": "code",
   "execution_count": 1,
   "id": "b40373aa",
   "metadata": {},
   "outputs": [],
   "source": [
    "import numpy as np\n",
    "import scqubits as scq"
   ]
  },
  {
   "cell_type": "markdown",
   "id": "2a0d2370",
   "metadata": {},
   "source": [
    "Transmon qubits can be capacitively coupled to a common harmonic mode, realized by an LC oscillator or a transmission-line resonator. The Hamiltonian describing such a composite system is given by:\n",
    "\n",
    "$$ H=H_{tmon,1}+H_{tmon,2}+\\omega_ra^{\\dagger} a+\\Sigma_{j=1,2} g_jn_j(a+a^{\\dagger})$$\n",
    "\n",
    "where $j=1,2$ enumerates the two transmon qubits,$\\omega_r$ is the (angular) frequency of the resonator. Furthermore, $n_j$ is the charge number operator for qubit $j$, and $g_j$ is the coupling strength between qubit and the resonator.\n",
    "\n"
   ]
  },
  {
   "cell_type": "markdown",
   "id": "0879a1d4",
   "metadata": {},
   "source": [
    "## Creating a HilbertSpace instance"
   ]
  },
  {
   "cell_type": "markdown",
   "id": "dbc11f28",
   "metadata": {},
   "source": [
    "The first step consists of creating the objects describing the individual building blocks of the full Hilbert space. Here, these will be the two transmons and one oscillator:"
   ]
  },
  {
   "cell_type": "code",
   "execution_count": 2,
   "id": "2d497c4c",
   "metadata": {},
   "outputs": [],
   "source": [
    "tmon1 = scq.Transmon(\n",
    "    EJ=40.0,\n",
    "    EC=0.2,\n",
    "    ng=0.3,\n",
    "    ncut=40,\n",
    "    truncated_dim=4     # after diagonalization, we will keep 3 levels\n",
    ")\n",
    "\n",
    "tmon2 = scq.Transmon(\n",
    "    EJ=15.0,\n",
    "    EC=0.15,\n",
    "    ng=0.0,\n",
    "    ncut=30,\n",
    "    truncated_dim=4\n",
    ")\n",
    "\n",
    "resonator = scq.Oscillator(\n",
    "    E_osc=4.5,\n",
    "    truncated_dim=4  # up to 3 photons (0,1,2,3)\n",
    ")"
   ]
  },
  {
   "cell_type": "markdown",
   "id": "914bf77f",
   "metadata": {},
   "source": [
    "The HilbertSpace object is now created in one of two ways. The first is by utilizing the GUI:"
   ]
  },
  {
   "cell_type": "code",
   "execution_count": 3,
   "id": "2971ad02",
   "metadata": {},
   "outputs": [
    {
     "data": {
      "application/vnd.jupyter.widget-view+json": {
       "model_id": "1d6856e17f414e18a070ceffc20cd394",
       "version_major": 2,
       "version_minor": 0
      },
      "text/plain": [
       "VBox(children=(HBox(children=(VBox(children=(HBox(children=(Label(value='Select subsystems (Ctrl-Click)'), But…"
      ]
     },
     "metadata": {},
     "output_type": "display_data"
    },
    {
     "data": {
      "application/vnd.jupyter.widget-view+json": {
       "model_id": "dcc6d6c406544e0f905a55d0d12f948f",
       "version_major": 2,
       "version_minor": 0
      },
      "text/plain": [
       "Output()"
      ]
     },
     "metadata": {},
     "output_type": "display_data"
    }
   ],
   "source": [
    "g = 0.1\n",
    "hilbertspace = scq.HilbertSpace.create()"
   ]
  },
  {
   "cell_type": "markdown",
   "id": "f3cc5d10",
   "metadata": {},
   "source": [
    "The second way of creating a HilbertSpace object is through regular programmatic creation: provide a list of all subsystems and then specify individual interaction terms (see the next subsection for the latter):"
   ]
  },
  {
   "cell_type": "code",
   "execution_count": 4,
   "id": "c0f1601b",
   "metadata": {},
   "outputs": [
    {
     "name": "stdout",
     "output_type": "stream",
     "text": [
      "HilbertSpace:  subsystems\n",
      "-------------------------\n",
      "\n",
      "Transmon------------| [Transmon_1]\n",
      "                    | EJ: 40.0\n",
      "                    | EC: 0.2\n",
      "                    | ng: 0.3\n",
      "                    | ncut: 40\n",
      "                    | truncated_dim: 4\n",
      "                    |\n",
      "                    | dim: 81\n",
      "\n",
      "\n",
      "Transmon------------| [Transmon_2]\n",
      "                    | EJ: 15.0\n",
      "                    | EC: 0.15\n",
      "                    | ng: 0.0\n",
      "                    | ncut: 30\n",
      "                    | truncated_dim: 4\n",
      "                    |\n",
      "                    | dim: 61\n",
      "\n",
      "\n",
      "Oscillator----------| [Oscillator_1]\n",
      "                    | E_osc: 4.5\n",
      "                    | l_osc: None\n",
      "                    | truncated_dim: 4\n",
      "                    |\n",
      "                    | dim: 4\n",
      "\n",
      "\n"
     ]
    }
   ],
   "source": [
    "hilbertspace = scq.HilbertSpace([tmon1, tmon2, resonator])\n",
    "print(hilbertspace)"
   ]
  },
  {
   "cell_type": "markdown",
   "id": "fa03bf63",
   "metadata": {},
   "source": [
    "## Specifying interactions between systems\n",
    "\n",
    "Interaction terms describing the coupling between subsystems can be specified in three different ways.\n",
    "\n",
    "This structure is captured by using the add_interaction method in the following way:\n"
   ]
  },
  {
   "cell_type": "code",
   "execution_count": 5,
   "id": "4e6bc571",
   "metadata": {},
   "outputs": [],
   "source": [
    "g1 = 0.1  # coupling resonator-tmon1 (without charge matrix elements)\n",
    "operator1 = tmon1.n_operator()\n",
    "operator2 = resonator.creation_operator() + resonator.annihilation_operator()\n",
    "\n",
    "hilbertspace.add_interaction(\n",
    "    g=g1,\n",
    "    op1=(operator1, tmon1),\n",
    "    op2=(operator2, resonator)\n",
    ")\n",
    "\n",
    "g2 = 0.2  # coupling resonator-CPB2 (without charge matrix elements)\n",
    "hilbertspace.add_interaction(\n",
    "    g=g2,\n",
    "    op1=tmon2.n_operator,\n",
    "    op2=resonator.creation_operator,\n",
    "    add_hc=True\n",
    ")"
   ]
  },
  {
   "cell_type": "code",
   "execution_count": 6,
   "id": "a2f8a9c8",
   "metadata": {},
   "outputs": [
    {
     "data": {
      "application/vnd.jupyter.widget-view+json": {
       "model_id": "",
       "version_major": 2,
       "version_minor": 0
      },
      "text/plain": [
       "Bare spectra:   0%|          | 0/151 [00:00<?, ?it/s]"
      ]
     },
     "metadata": {},
     "output_type": "display_data"
    },
    {
     "data": {
      "application/vnd.jupyter.widget-view+json": {
       "model_id": "",
       "version_major": 2,
       "version_minor": 0
      },
      "text/plain": [
       "Bare spectra:   0%|          | 0/151 [00:00<?, ?it/s]"
      ]
     },
     "metadata": {},
     "output_type": "display_data"
    },
    {
     "data": {
      "application/vnd.jupyter.widget-view+json": {
       "model_id": "",
       "version_major": 2,
       "version_minor": 0
      },
      "text/plain": [
       "Bare spectra:   0%|          | 0/1 [00:00<?, ?it/s]"
      ]
     },
     "metadata": {},
     "output_type": "display_data"
    },
    {
     "data": {
      "application/vnd.jupyter.widget-view+json": {
       "model_id": "",
       "version_major": 2,
       "version_minor": 0
      },
      "text/plain": [
       "Dressed spectrum:   0%|          | 0/151 [00:00<?, ?it/s]"
      ]
     },
     "metadata": {},
     "output_type": "display_data"
    }
   ],
   "source": [
    "param_name = \"Φext/Φ0\"\n",
    "param_vals = np.linspace(0.0, 1.0, 151)\n",
    "\n",
    "subsys_update_list = [tmon1, tmon2]\n",
    "\n",
    "\n",
    "def update_hilbertspace(param_val):     # function that shows how Hilbert space components are updated\n",
    "    tmon1.EJ = 30*np.abs(np.cos(np.pi * param_val))\n",
    "    tmon2.EJ = 40*np.abs(np.cos(np.pi * param_val * 2))\n",
    "\n",
    "\n",
    "sweep = scq.ParameterSweep(\n",
    "    paramvals_by_name={param_name: param_vals},\n",
    "    evals_count=15,\n",
    "    hilbertspace=hilbertspace,\n",
    "    subsys_update_info={param_name: [tmon1, tmon2]},\n",
    "    update_hilbertspace=update_hilbertspace,\n",
    ")"
   ]
  },
  {
   "cell_type": "code",
   "execution_count": 7,
   "id": "49a12d67",
   "metadata": {},
   "outputs": [
    {
     "data": {
      "application/vnd.jupyter.widget-view+json": {
       "model_id": "1896b06354094e8e99a65053e74f472c",
       "version_major": 2,
       "version_minor": 0
      },
      "text/plain": [
       "VBox(children=(Tab(children=(HBox(children=(HBox(children=(VBox(children=(Dropdown(layout=Layout(width='165px'…"
      ]
     },
     "metadata": {},
     "output_type": "display_data"
    }
   ],
   "source": [
    "explorer = scq.Explorer(sweep=sweep)"
   ]
  },
  {
   "cell_type": "code",
   "execution_count": null,
   "id": "d2c35fba",
   "metadata": {},
   "outputs": [],
   "source": []
  },
  {
   "cell_type": "code",
   "execution_count": null,
   "id": "19c26d77",
   "metadata": {},
   "outputs": [],
   "source": []
  }
 ],
 "metadata": {
  "kernelspec": {
   "display_name": "Python 3",
   "language": "python",
   "name": "python3"
  },
  "language_info": {
   "codemirror_mode": {
    "name": "ipython",
    "version": 3
   },
   "file_extension": ".py",
   "mimetype": "text/x-python",
   "name": "python",
   "nbconvert_exporter": "python",
   "pygments_lexer": "ipython3",
   "version": "3.8.10"
  }
 },
 "nbformat": 4,
 "nbformat_minor": 5
}
